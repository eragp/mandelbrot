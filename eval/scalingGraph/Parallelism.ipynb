{
 "cells": [
  {
   "cell_type": "code",
   "execution_count": 1,
   "metadata": {},
   "outputs": [],
   "source": [
    "%matplotlib inline\n",
    "\n",
    "import matplotlib\n",
    "import numpy as np\n",
    "import matplotlib.pyplot as plt\n",
    "plt.style.use('ggplot')\n",
    "\n",
    "import json\n",
    "from pprint import pprint\n",
    "\n",
    "def save_fig(fig, name):\n",
    "    fig.savefig(\"graphs/{}.png\".format(name), format=\"png\", dpi=500)\n",
    "    fig.savefig(\"graphs/{}.pdf\".format(name), format=\"pdf\", dpi=500)"
   ]
  },
  {
   "cell_type": "code",
   "execution_count": 2,
   "metadata": {},
   "outputs": [],
   "source": [
    "def load_json(path):\n",
    "    with open(path) as f:\n",
    "        data = json.load(f)\n",
    "    timings = []\n",
    "    for d in data[\"datapoints\"]:\n",
    "        s = d[\"setting\"]\n",
    "        t = list(map(lambda x: (x[\"computationTime\"], x['mpiTime']),\n",
    "                       sorted(d[\"data\"][\"workers\"], key=lambda x: x[\"rank\"])))\n",
    "        for time in t:\n",
    "            timings.append(time)\n",
    "    return timings"
   ]
  },
  {
   "cell_type": "code",
   "execution_count": 6,
   "metadata": {},
   "outputs": [
    {
     "data": {
      "image/png": "[encoded data removed]",
      "text/plain": [
       "<Figure size 720x360 with 1 Axes>"
      ]
     },
     "metadata": {},
     "output_type": "display_data"
    }
   ],
   "source": [
    "normalT = load_json(\"./data_parallel_normal.json\")\n",
    "ompT = load_json(\"./data_parallel_4_OpenMP.json\")\n",
    "mpiT = load_json(\"./data_parallel_4_MPI.json\")\n",
    "\n",
    "# timings in ms\n",
    "def stat(data):\n",
    "    a, b = zip(*data)\n",
    "    a, b = np.asarray(a) / 1e3, np.asarray(b) / 1e3\n",
    "    return np.mean(a), np.std(a), np.mean(b), np.std(b)\n",
    "\n",
    "normal, normalErr, normalMPI, normalMPIerr = stat(normalT)\n",
    "omp, ompErr, ompMPI, ompMPIerr = stat(ompT)\n",
    "mpi, mpiErr, mpiMPI, mpiMPIerr = stat(mpiT)\n",
    "\n",
    "\n",
    "x_ticks = [\"1 MPI Prozess pro Knoten\", \"4 OpenMP Threads pro Knoten\", \"4 MPI Prozesse pro Knoten\"]\n",
    "x = np.arange(len(x_ticks))\n",
    "y = (normal, omp, mpi)\n",
    "yerr = (normalErr, ompErr, mpiErr)\n",
    "\n",
    "\n",
    "fig, ax = plt.subplots(figsize=(10,5))\n",
    "total_width = 0.8\n",
    "ind_width = total_width / 2\n",
    "alteration = np.arange(-(total_width / 2), total_width/2, ind_width)\n",
    "\n",
    "barlist = ax.bar(alteration[0] + x, y, align='center', width=ind_width)\n",
    "\n",
    "barlist[0].set_color('#E24A33')\n",
    "barlist[1].set_color('#348ABD')\n",
    "barlist[2].set_color('#988ED5')\n",
    "\n",
    "yMPI = (normalMPI, ompMPI, mpiMPI)\n",
    "yMPIErr = (normalMPIerr, ompMPIerr, mpiMPIerr)\n",
    "ax.bar(alteration[1] + x, yMPI, align='center', color='#FBC15E', width=ind_width, label='MPI Zeit')\n",
    "\n",
    "\n",
    "ax.errorbar(alteration[0] + x, y, yerr=yerr, color='#555555', ls='none', lw = 2, capthick = 2)\n",
    "ax.errorbar(alteration[1] + x, yMPI, yerr=yMPIErr, color='#555555', ls='none', lw = 2, capthick = 2)\n",
    "ax.set_ylabel('Rechenzeit [ms]')\n",
    "ax.set_title('Median Rechenzeit mit Parallelisierungen')\n",
    "\n",
    "ax.set_xticks(np.arange(len(x_ticks)))\n",
    "ax.set_xticklabels(x_ticks)\n",
    "ax.legend()\n",
    "#plt.yscale('log')\n",
    "#save_fig(fig, 'parallelism')\n",
    "\n",
    "plt.show()\n"
   ]
  },
  {
   "cell_type": "code",
   "execution_count": null,
   "metadata": {},
   "outputs": [],
   "source": []
  }
 ],
 "metadata": {
  "kernelspec": {
   "display_name": "Python 3",
   "language": "python",
   "name": "python3"
  },
  "language_info": {
   "codemirror_mode": {
    "name": "ipython",
    "version": 3
   },
   "file_extension": ".py",
   "mimetype": "text/x-python",
   "name": "python",
   "nbconvert_exporter": "python",
   "pygments_lexer": "ipython3",
   "version": "3.7.1"
  }
 },
 "nbformat": 4,
 "nbformat_minor": 2
}
