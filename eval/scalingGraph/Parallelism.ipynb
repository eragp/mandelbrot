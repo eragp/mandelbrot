{
 "cells": [
  {
   "cell_type": "code",
   "execution_count": 1,
   "metadata": {},
   "outputs": [],
   "source": [
    "%matplotlib inline\n",
    "\n",
    "import matplotlib\n",
    "import numpy as np\n",
    "import matplotlib.pyplot as plt\n",
    "plt.style.use('ggplot')\n",
    "\n",
    "import json\n",
    "from pprint import pprint\n",
    "\n",
    "def save_fig(fig, name):\n",
    "    fig.savefig(\"graphs/{}.png\".format(name), format=\"png\", dpi=500)\n",
    "    fig.savefig(\"graphs/{}.pdf\".format(name), format=\"pdf\", dpi=500)"
   ]
  },
  {
   "cell_type": "code",
   "execution_count": 2,
   "metadata": {},
   "outputs": [],
   "source": [
    "def load_json(path):\n",
    "    with open(path) as f:\n",
    "        data = json.load(f)\n",
    "    timings = []\n",
    "    for d in data[\"datapoints\"]:\n",
    "        s = d[\"setting\"]\n",
    "        comp = list(map(lambda x: (x[\"computationTime\"]),\n",
    "                       sorted(d[\"data\"][\"workers\"], key=lambda x: x[\"rank\"])))\n",
    "        for time in comp:\n",
    "            timings.append(time)\n",
    "    return timings"
   ]
  },
  {
   "cell_type": "code",
   "execution_count": 3,
   "metadata": {},
   "outputs": [],
   "source": [
    "def load_json2(path):\n",
    "    with open(path) as f:\n",
    "        data = json.load(f)\n",
    "    timings = []\n",
    "    for d in data[\"datapoints\"]:\n",
    "        s = d[\"setting\"]\n",
    "        comp = list(map(lambda x: (x[\"mpiTime\"]),\n",
    "                       sorted(d[\"data\"][\"workers\"], key=lambda x: x[\"rank\"])))\n",
    "        for time in comp:\n",
    "            timings.append(time)\n",
    "    return timings"
   ]
  },
  {
   "cell_type": "code",
   "execution_count": 6,
   "metadata": {},
   "outputs": [
    {
     "data": {
      "image/png": "[encoded data removed]",
      "text/plain": [
       "<Figure size 720x360 with 1 Axes>"
      ]
     },
     "metadata": {},
     "output_type": "display_data"
    },
    {
     "data": {
      "image/png": "[encoded data removed]",
      "text/plain": [
       "<Figure size 720x360 with 1 Axes>"
      ]
     },
     "metadata": {},
     "output_type": "display_data"
    },
    {
     "name": "stdout",
     "output_type": "stream",
     "text": [
      "cycler('color', ['#E24A33', '#348ABD', '#988ED5', '#777777', '#FBC15E', '#8EBA42', '#FFB5B8'])\n"
     ]
    }
   ],
   "source": [
    "def barplot(x_data, y_data, error_data, x_label, y_label, x_ticks, title):\n",
    "    fig, ax = plt.subplots(figsize=(10,5))\n",
    "    bar = ax.bar(x_data, y_data, align='center')\n",
    "\n",
    "    ax.errorbar(x_data, y_data, yerr=error_data, color='black', ls='none', lw = 2, capthick= 2)\n",
    "    ax.set_ylabel(y_label)\n",
    "    ax.set_xlabel(x_label)\n",
    "    ax.set_title(title)\n",
    "\n",
    "    ax.set_xticks(np.arange(len(x_ticks)))\n",
    "    ax.set_xticklabels(x_ticks)\n",
    "    #save_fig(fig, 'parallelism')\n",
    "\n",
    "# timings in ms\n",
    "normal = np.asarray(load_json(\"./data_parallel_normal.json\")) / 1e3\n",
    "omp = np.asarray(load_json(\"./data_parallel_4_OpenMP.json\")) / 1e3\n",
    "mpi = np.asarray(load_json(\"./data_parallel_4_MPI.json\")) / 1e3\n",
    "\n",
    "x_ticks = [\"normal\", \"4 MPI\", \"4 OpenMP\"]\n",
    "x = np.arange(len(x_ticks))\n",
    "y = (np.mean(normal), np.mean(mpi), np.mean(omp))\n",
    "yerr = (np.std(normal), np.std(mpi), np.std(omp))\n",
    "\n",
    "barplot(x, y, yerr, \n",
    "       x_label='Konfiguration',\n",
    "       y_label='Rechenzeit [ms]',\n",
    "       x_ticks=x_ticks,\n",
    "       title='Rechenzeit pro Konfiguration')\n",
    "\n",
    "plt.show()\n",
    "\n",
    "# timings in ms\n",
    "normal = np.asarray(load_json2(\"./data_parallel_normal.json\")) / 1e3\n",
    "omp = np.asarray(load_json2(\"./data_parallel_4_OpenMP.json\")) / 1e3\n",
    "mpi = np.asarray(load_json2(\"./data_parallel_4_MPI.json\")) / 1e3\n",
    "\n",
    "x_ticks = [\"normal\", \"4 MPI\", \"4 OpenMP\"]\n",
    "x = np.arange(len(x_ticks))\n",
    "y = (np.mean(normal), np.mean(mpi), np.mean(omp))\n",
    "yerr = (np.std(normal), np.std(mpi), np.std(omp))\n",
    "\n",
    "barplot(x, y, yerr, \n",
    "       x_label='Konfiguration',\n",
    "       y_label='Rechenzeit [ms]',\n",
    "       x_ticks=x_ticks,\n",
    "       title='Rechenzeit pro Konfiguration')\n",
    "\n",
    "plt.show()\n",
    "\n",
    "print(plt.style.library['ggplot']['axes.prop_cycle']\n",
    ")\n"
   ]
  },
  {
   "cell_type": "code",
   "execution_count": null,
   "metadata": {},
   "outputs": [],
   "source": []
  }
 ],
 "metadata": {
  "kernelspec": {
   "display_name": "Python 3",
   "language": "python",
   "name": "python3"
  },
  "language_info": {
   "codemirror_mode": {
    "name": "ipython",
    "version": 3
   },
   "file_extension": ".py",
   "mimetype": "text/x-python",
   "name": "python",
   "nbconvert_exporter": "python",
   "pygments_lexer": "ipython3",
   "version": "3.7.1"
  }
 },
 "nbformat": 4,
 "nbformat_minor": 2
}
